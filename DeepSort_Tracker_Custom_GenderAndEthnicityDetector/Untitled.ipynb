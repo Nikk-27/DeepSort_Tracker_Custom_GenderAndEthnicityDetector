{
 "cells": [
  {
   "cell_type": "code",
   "execution_count": 1,
   "metadata": {},
   "outputs": [
    {
     "ename": "ModuleNotFoundError",
     "evalue": "No module named 'torch'",
     "output_type": "error",
     "traceback": [
      "\u001b[1;31m---------------------------------------------------------------------------\u001b[0m",
      "\u001b[1;31mModuleNotFoundError\u001b[0m                       Traceback (most recent call last)",
      "\u001b[1;32m<ipython-input-1-b04bffc18f4c>\u001b[0m in \u001b[0;36m<module>\u001b[1;34m\u001b[0m\n\u001b[0;32m      3\u001b[0m \u001b[1;32mimport\u001b[0m \u001b[0mtime\u001b[0m\u001b[1;33m\u001b[0m\u001b[1;33m\u001b[0m\u001b[0m\n\u001b[0;32m      4\u001b[0m \u001b[1;32mimport\u001b[0m \u001b[0margparse\u001b[0m\u001b[1;33m\u001b[0m\u001b[1;33m\u001b[0m\u001b[0m\n\u001b[1;32m----> 5\u001b[1;33m \u001b[1;32mimport\u001b[0m \u001b[0mtorch\u001b[0m\u001b[1;33m\u001b[0m\u001b[1;33m\u001b[0m\u001b[0m\n\u001b[0m\u001b[0;32m      6\u001b[0m \u001b[1;32mimport\u001b[0m \u001b[0mnumpy\u001b[0m \u001b[1;32mas\u001b[0m \u001b[0mnp\u001b[0m\u001b[1;33m\u001b[0m\u001b[1;33m\u001b[0m\u001b[0m\n\u001b[0;32m      7\u001b[0m \u001b[1;33m\u001b[0m\u001b[0m\n",
      "\u001b[1;31mModuleNotFoundError\u001b[0m: No module named 'torch'"
     ]
    }
   ],
   "source": [
    "import os\n",
    "import cv2\n",
    "import time\n",
    "import argparse\n",
    "import torch\n",
    "import numpy as np\n",
    "\n",
    "from detector import build_detector\n",
    "from deep_sort import build_tracker\n",
    "from utils.draw import draw_boxes\n",
    "from utils.parser import get_config\n",
    "count=0\n",
    "temp=[]\n",
    "\n",
    "\n",
    "class VideoTracker(object):\n",
    "    def __init__(self, cfg):\n",
    "        use_cuda = torch.cuda.is_available()\n",
    "        if not use_cuda:\n",
    "            raise UserWarning(\"Running in cpu mode!\")\n",
    "\n",
    "\n",
    "        \n",
    "        self.detector = build_detector(cfg, use_cuda=use_cuda)\n",
    "        self.deepsort = build_tracker(cfg, use_cuda=use_cuda)\n",
    "        self.class_names = self.detector.class_names\n",
    "\n",
    "\n",
    "    def __enter__(self):\n",
    "        return self\n",
    "\n",
    "    \n",
    "    def __exit__(self, exc_type, exc_value, exc_traceback):\n",
    "        if exc_type:\n",
    "            print(exc_type, exc_value, exc_traceback)\n",
    "        \n",
    "    def track(self):\n",
    "        #import url\n",
    "        import numpy as np\n",
    "        import cv2\n",
    "        #cap = cv2.VideoCapture('http://192.168.137.61:80/')#.dtype('uint32')\n",
    "        cap = cv2.VideoCapture(0)\n",
    "        while True:\n",
    "            ret,frame = cap.read()\n",
    "            bbox_xywh, cls_conf, cls_ids = self.detector(frame)\n",
    "            if bbox_xywh is not None:\n",
    "                mask = cls_ids==0\n",
    "                #if(mask==cls_ids==0):\n",
    "                  #  count+=1\n",
    "##                bbox_xywh = bbox_xywh[mask]\n",
    "                bbox_xywh[:,3:] *= 1.2 # bbox dilation just in case bbox too small\n",
    "                cls_conf = cls_conf[mask]\n",
    "\n",
    "                # do tracking\n",
    "                outputs = self.deepsort.update(bbox_xywh, cls_conf, frame)\n",
    "                #print(len(outputs))\n",
    "                for i in  range(len(outputs)):\n",
    "                 if outputs[i][4] not in temp:\n",
    "                     temp.append(outputs[i][4])\n",
    "                # draw boxes for visualization\n",
    "                if len(outputs) > 0:\n",
    "                    bbox_xyxy = outputs[:,:-1]\n",
    "                    print(\"Bbox {}\".format(bbox_xyxy))\n",
    "                    identities = outputs[:,-1]\n",
    "                    print(\"Identities {}\".format(identities))\n",
    "                    frame = draw_boxes(frame, bbox_xyxy, identities)\n",
    "                    \n",
    "            cv2.imshow(\"frame\", frame)\n",
    "            if cv2.waitKey(1) & 0xFF == ord('q'):\n",
    "                break\n",
    "          \n",
    "        cap.release()\n",
    "        cv2.destroyAllWindows()            \n",
    "        print(\"No of viewers: \",len(temp))\n",
    "        print(temp)\n",
    "\n",
    "if __name__==\"__main__\":\n",
    "    cfg = get_config()\n",
    "    cfg.merge_from_file(\"./configs/yolov3.yaml\")\n",
    "    cfg.merge_from_file(\"./configs/deep_sort.yaml\")\n",
    "\n",
    "    with VideoTracker(cfg) as vdo_trk:\n",
    "        vdo_trk.track()\n"
   ]
  },
  {
   "cell_type": "code",
   "execution_count": null,
   "metadata": {},
   "outputs": [],
   "source": [
    "!conda install pytorch torchvision cudatoolkit=10.1 -c pytorch"
   ]
  },
  {
   "cell_type": "code",
   "execution_count": null,
   "metadata": {},
   "outputs": [],
   "source": []
  }
 ],
 "metadata": {
  "kernelspec": {
   "display_name": "Python 3",
   "language": "python",
   "name": "python3"
  },
  "language_info": {
   "codemirror_mode": {
    "name": "ipython",
    "version": 3
   },
   "file_extension": ".py",
   "mimetype": "text/x-python",
   "name": "python",
   "nbconvert_exporter": "python",
   "pygments_lexer": "ipython3",
   "version": "3.7.4"
  }
 },
 "nbformat": 4,
 "nbformat_minor": 2
}
